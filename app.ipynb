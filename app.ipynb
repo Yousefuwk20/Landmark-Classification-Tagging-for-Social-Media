{
 "cells": [
  {
   "cell_type": "markdown",
   "id": "662ba368",
   "metadata": {},
   "source": [
    "# Convolutional Neural Networks\n",
    "\n",
    "## Project: Write an Algorithm for Landmark Classification\n",
    "\n",
    "### A simple app\n",
    "\n",
    "In this notebook we build a very simple app that uses our exported model.\n",
    "\n",
    "> <img src=\"static_images/icons/noun-info-2558213.png\" alt=\"?\" style=\"width:25px\"/> Note how we are not importing anything from our source code (we do not use any module from the ``src`` directory). This is because the exported model, differently from the model weights, is a standalone serialization of our model and therefore it does not need anything else. You can ship that file to anybody, and as long as they can import ``torch``, they will be able to use your model. This is very important for releasing pytorch models to production.\n",
    "\n",
    "### Test your app\n",
    "Go to a search engine for images (like Google Images) and search for images of some of the landmarks, like the Eiffel Tower, the Golden Gate Bridge, Machu Picchu and so on. Save a few examples locally, then upload them to your app to see how your model behaves!\n",
    "\n",
    "The app will show the top 5 classes that the model think are most relevant for the picture you have uploaded"
   ]
  },
  {
   "cell_type": "code",
   "execution_count": 1,
   "id": "3cd43d2d-26ba-4416-9607-7fd09af83aa7",
   "metadata": {
    "ExecuteTime": {
     "end_time": "2024-08-04T06:45:36.364887Z",
     "start_time": "2024-08-04T06:45:33.314343Z"
    }
   },
   "outputs": [],
   "source": [
    "# Install requirements\n",
    "!pip install -r requirements.txt | grep -v \"already satisfied\""
   ]
  },
  {
   "cell_type": "code",
   "execution_count": 5,
   "id": "d85e1899",
   "metadata": {
    "ExecuteTime": {
     "end_time": "2024-08-04T06:52:12.463258Z",
     "start_time": "2024-08-04T06:52:12.460017Z"
    }
   },
   "outputs": [],
   "source": [
    "class_names = [\n",
    "    \"Haleakala_National_Park\", \"Mount_Rainier_National_Park\", \"Ljubljana_Castle\", \"Dead_Sea\", \"Wroclaws_Dwarves\",\n",
    "    \"London_Olympic_Stadium\", \"Niagara_Falls\", \"Stonehenge\", \"Grand_Canyon\", \"Golden_Gate_Bridge\",\n",
    "    \"Edinburgh_Castle\", \"Mount_Rushmore_National_Memorial\", \"Kantanagar_Temple\", \"Yellowstone_National_Park\",\n",
    "    \"Terminal_Tower\", \"Central_Park\", \"Eiffel_Tower\", \"Changdeokgung\", \"Delicate_Arch\", \"Vienna_City_Hall\",\n",
    "    \"Matterhorn\", \"Taj_Mahal\", \"Moscow_Raceway\", \"Externsteine\", \"Soreq_Cave\", \"Banff_National_Park\",\n",
    "    \"Pont_du_Gard\", \"Seattle_Japanese_Garden\", \"Sydney_Harbour_Bridge\", \"Petronas_Towers\", \"Brooklyn_Bridge\",\n",
    "    \"Washington_Monument\", \"Hanging_Temple\", \"Sydney_Opera_House\", \"Great_Barrier_Reef\", \"Monumento_a_la_Revolución\",\n",
    "    \"Badlands_National_Park\", \"Atomium\", \"Forth_Bridge\", \"Gateway_of_India\", \"Stockholm_City_Hall\", \"Machu_Picchu\",\n",
    "    \"Death_Valley_National_Park\", \"Gullfoss_Falls\", \"Trevi_Fountain\", \"Temple_of_Heaven\", \"Great_Wall_of_China\",\n",
    "    \"Prague_Astronomical_Clock\", \"Whitby_Abbey\", \"Temple_of_Olympian_Zeus\"\n",
    "]\n",
    "\n",
    "import json\n",
    "\n",
    "with open('class_names.json', 'w') as f:\n",
    "    json.dump(class_names, f)"
   ]
  },
  {
   "cell_type": "code",
   "execution_count": 9,
   "id": "bda5a833",
   "metadata": {
    "ExecuteTime": {
     "end_time": "2024-08-04T06:56:51.121396Z",
     "start_time": "2024-08-04T06:56:51.049935Z"
    }
   },
   "outputs": [
    {
     "data": {
      "application/vnd.jupyter.widget-view+json": {
       "model_id": "dfd57cf586144c37bb09ed993f24275a",
       "version_major": 2,
       "version_minor": 0
      },
      "text/plain": [
       "VBox(children=(Label(value='Please upload a picture of a landmark'), FileUpload(value={}, description='Upload'…"
      ]
     },
     "metadata": {},
     "output_type": "display_data"
    }
   ],
   "source": [
    "from ipywidgets import VBox, Button, FileUpload, Output, Label\n",
    "from PIL import Image\n",
    "from IPython.display import display\n",
    "import io\n",
    "import numpy as np\n",
    "import torchvision.transforms as T\n",
    "import torch\n",
    "import json\n",
    "\n",
    "learn_inf = torch.jit.load(\"original_exported.pt\")\n",
    "\n",
    "with open('class_names.json', 'r') as f:\n",
    "    class_names = json.load(f)\n",
    "\n",
    "def on_click_classify(change):\n",
    "    if not btn_upload.value:\n",
    "        with out_pl:\n",
    "            print(\"No file uploaded\")\n",
    "        return\n",
    "\n",
    "    uploaded_file = next(iter(btn_upload.value.values()))\n",
    "    if 'content' not in uploaded_file:\n",
    "        with out_pl:\n",
    "            print(\"Uploaded file has no content\")\n",
    "        return\n",
    "\n",
    "    fn = io.BytesIO(uploaded_file['content'])\n",
    "\n",
    "    img = Image.open(fn)\n",
    "    img.load()\n",
    "\n",
    "    out_pl.clear_output()\n",
    "\n",
    "    with out_pl:\n",
    "        ratio = img.size[0] / img.size[1]\n",
    "        c = img.copy()\n",
    "        c.thumbnail([ratio * 200, 200])\n",
    "        display(c)\n",
    "\n",
    "    timg = T.ToTensor()(img).unsqueeze_(0)\n",
    "\n",
    "    with torch.no_grad():\n",
    "        softmax = learn_inf(timg).data.cpu().numpy().squeeze()\n",
    "\n",
    "    idxs = np.argsort(softmax)[::-1]\n",
    "\n",
    "    for i in range(5):\n",
    "        p = softmax[idxs[i]]\n",
    "        landmark_name = class_names[idxs[i]] if idxs[i] < len(class_names) else f\"Class {idxs[i]}\"\n",
    "        labels[i].value = f\"{landmark_name} (prob: {p:.2f})\"\n",
    "\n",
    "btn_upload = FileUpload()\n",
    "\n",
    "btn_run = Button(description=\"Classify\")\n",
    "btn_run.on_click(on_click_classify)\n",
    "\n",
    "labels = [Label() for _ in range(5)]\n",
    "\n",
    "out_pl = Output()\n",
    "out_pl.clear_output()\n",
    "\n",
    "wgs = [Label(\"Please upload a picture of a landmark\"), btn_upload, btn_run, out_pl] + labels\n",
    "\n",
    "display(VBox(wgs))\n"
   ]
  },
  {
   "cell_type": "markdown",
   "id": "267f9867",
   "metadata": {},
   "source": [
    "## (optional) Standalone app or web app\n",
    "\n",
    "You can run this notebook as a standalone app on your computer by following these steps:\n",
    "\n",
    "1. Download this notebook in a directory on your machine\n",
    "2. Download the model export (for example, ``checkpoints/transfer_exported.pt``) in a subdirectory called ``checkpoints`` within the directory where you save the app.ipynb notebook\n",
    "3. Install voila if you don't have it already (``pip install voila``)\n",
    "4. Run your app: ``voila app.ipynb --show_tracebacks=True``\n",
    "5. Customize your notebook to make your app prettier and rerun voila\n",
    "\n",
    "You can also deploy this app as a website using Binder: https://voila.readthedocs.io/en/stable/deploy.html#deployment-on-binder"
   ]
  },
  {
   "cell_type": "markdown",
   "id": "3f87207e",
   "metadata": {},
   "source": [
    "# Create your submission archive\n",
    "\n",
    "Now that you are done with your project, please run the following cell. It will generate a file containing all the code you have written, as well as the notebooks. Please submit that file to complete your project"
   ]
  },
  {
   "cell_type": "code",
   "execution_count": 10,
   "id": "5cbba984",
   "metadata": {
    "ExecuteTime": {
     "end_time": "2024-08-04T06:57:24.720571Z",
     "start_time": "2024-08-04T06:57:18.083733Z"
    }
   },
   "outputs": [
    {
     "name": "stdout",
     "output_type": "stream",
     "text": [
      "executing: jupyter nbconvert --to html transfer_learning.ipynb\n",
      "[NbConvertApp] Converting notebook transfer_learning.ipynb to html\n",
      "[NbConvertApp] Writing 517869 bytes to transfer_learning.html\n",
      "executing: jupyter nbconvert --to html cnn_from_scratch.ipynb\n",
      "[NbConvertApp] Converting notebook cnn_from_scratch.ipynb to html\n",
      "[NbConvertApp] Writing 1382852 bytes to cnn_from_scratch.html\n",
      "executing: jupyter nbconvert --to html app.ipynb\n",
      "[NbConvertApp] Converting notebook app.ipynb to html\n",
      "[NbConvertApp] Writing 290248 bytes to app.html\n",
      "Adding files to submission_2024-08-04T09h57m.zip\n",
      "src/__init__.py\n",
      "src/train.py\n",
      "src/model.py\n",
      "src/helpers.py\n",
      "src/transfer.py\n",
      "src/create_submit_pkg.py\n",
      "src/data.py\n",
      "src/predictor.py\n",
      "src/optimization.py\n",
      "transfer_learning.ipynb\n",
      "cnn_from_scratch.ipynb\n",
      "app.ipynb\n",
      "cnn_from_scratch.html\n",
      "transfer_learning.html\n",
      "app.html\n",
      "\n",
      "-------------------------------------------------------------\n",
      "Done. Please submit the file submission_2024-08-04T09h57m.zip\n",
      "-------------------------------------------------------------\n"
     ]
    }
   ],
   "source": [
    "!python src/create_submit_pkg.py"
   ]
  },
  {
   "cell_type": "code",
   "execution_count": null,
   "id": "5948d9a3",
   "metadata": {},
   "outputs": [],
   "source": []
  }
 ],
 "metadata": {
  "kernelspec": {
   "display_name": "Python 3 (ipykernel)",
   "language": "python",
   "name": "python3"
  },
  "language_info": {
   "codemirror_mode": {
    "name": "ipython",
    "version": 3
   },
   "file_extension": ".py",
   "mimetype": "text/x-python",
   "name": "python",
   "nbconvert_exporter": "python",
   "pygments_lexer": "ipython3",
   "version": "3.12.3"
  },
  "widgets": {
   "application/vnd.jupyter.widget-state+json": {
    "state": {},
    "version_major": 2,
    "version_minor": 0
   }
  }
 },
 "nbformat": 4,
 "nbformat_minor": 5
}
